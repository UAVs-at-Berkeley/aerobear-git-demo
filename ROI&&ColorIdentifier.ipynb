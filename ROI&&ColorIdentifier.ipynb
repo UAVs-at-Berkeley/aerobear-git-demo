{
 "cells": [
  {
   "cell_type": "code",
   "execution_count": 1,
   "metadata": {},
   "outputs": [],
   "source": [
    "import cv2\n",
    "from math import sqrt\n",
    "from skimage import data\n",
    "from skimage.feature import blob_dog, blob_log, blob_doh\n",
    "from skimage.color import rgb2gray, deltaE_cie76, rgb2lab\n",
    "import matplotlib.pyplot as plt\n",
    "from sklearn.cluster import KMeans\n",
    "import numpy as np\n",
    "from collections import Counter \n",
    "import os\n",
    "import webcolors"
   ]
  },
  {
   "cell_type": "code",
   "execution_count": 2,
   "metadata": {},
   "outputs": [],
   "source": [
    "image = cv2.imread('maryland_test_50.png')\n",
    "image = cv2.cvtColor(image, cv2.COLOR_BGR2RGB)"
   ]
  },
  {
   "cell_type": "code",
   "execution_count": 39,
   "metadata": {},
   "outputs": [],
   "source": [
    "def plot_rois(image):\n",
    "    image_gray = rgb2gray(image)\n",
    "    # Compute radii in the 3rd column.\n",
    "    blobs_dog = blob_dog(image_gray, max_sigma=10, threshold=.25)\n",
    "    print(blobs_dog)\n",
    "    blobs_dog[:, 2] = blobs_dog[:, 2] * sqrt(2)\n",
    "\n",
    "    blobs_list = [blobs_dog]\n",
    "    colors = ['lime']\n",
    "    titles = [ 'Difference of Gaussian']\n",
    "    sequence = zip(blobs_list, colors, titles)\n",
    "    fig, axes = plt.subplots(1, 3, figsize=(9, 3), sharex=True, sharey=True)\n",
    "    ax = axes.ravel()\n",
    "    for idx, (blobs, color, title) in enumerate(sequence):\n",
    "        ax[idx].set_title(title)\n",
    "        ax[idx].imshow(image)\n",
    "        for blob in blobs:\n",
    "            y, x, r = blob\n",
    "            c = plt.Circle((x, y), r, color=color, linewidth=2, fill=False)\n",
    "            ax[idx].add_patch(c)\n",
    "        ax[idx].set_axis_off()\n",
    "    plt.tight_layout()\n",
    "    plt.show()\n",
    "def find_rois(image, margin = 12):\n",
    "    image_gray = rgb2gray(image)\n",
    "    blobs_dog = blob_dog(image_gray, max_sigma=16.4, threshold=.14)\n",
    "    coordinates = blobs_dog.tolist()\n",
    "    filtered_coordinates = (list(filter(lambda lst: lst[2] > 5, coordinates)))\n",
    "    img_lst = [image[int(lst[0] - margin):int(lst[0] + margin), int(lst[1] - margin):int(lst[1] + margin)] for lst in filtered_coordinates]\n",
    "    return img_lst\n",
    "def get_image(image_path):\n",
    "    image = cv2.imread(image_path)\n",
    "    image = cv2.cvtColor(image, cv2.COLOR_BGR2RGB)\n",
    "    return image\n",
    "def RGB2HEX(color):\n",
    "    return \"#{:02x}{:02x}{:02x}\".format(int(color[0]), int(color[1]), int(color[2]))\n",
    "def get_colors(img, number_of_colors):\n",
    "    modified_image = cv2.resize(image, (600, 400), interpolation = cv2.INTER_AREA)\n",
    "    modified_image = modified_image.reshape(modified_image.shape[0]*modified_image.shape[1], 3)\n",
    "    clf = KMeans(n_clusters = number_of_colors)\n",
    "    labels = clf.fit_predict(modified_image)\n",
    "    counts = Counter(labels)\n",
    "    center_colors = [list(map(int, lst)) for lst in clf.cluster_centers_]\n",
    "    ordered_colors = [center_colors[i] for i in counts.keys()]\n",
    "    return center_colors\n"
   ]
  },
  {
   "cell_type": "code",
   "execution_count": 40,
   "metadata": {},
   "outputs": [
    {
     "name": "stdout",
     "output_type": "stream",
     "text": [
      "23\n"
     ]
    },
    {
     "data": {
      "text/plain": [
       "<matplotlib.image.AxesImage at 0x2a981c2ccc0>"
      ]
     },
     "execution_count": 40,
     "metadata": {},
     "output_type": "execute_result"
    },
    {
     "data": {
      "image/png": "[encoded data removed]",
      "text/plain": [
       "<Figure size 432x288 with 1 Axes>"
      ]
     },
     "metadata": {
      "needs_background": "light"
     },
     "output_type": "display_data"
    }
   ],
   "source": [
    "img_list = find_rois(image)\n",
    "print(len(img_list))\n",
    "plt.imshow(img_list[1])"
   ]
  },
  {
   "cell_type": "code",
   "execution_count": 38,
   "metadata": {},
   "outputs": [
    {
     "name": "stdout",
     "output_type": "stream",
     "text": [
      "[[79, 80, 59], [101, 101, 80]]\n"
     ]
    }
   ],
   "source": [
    "a = get_colors(img_list[1], 2)\n",
    "print(a)"
   ]
  },
  {
   "cell_type": "code",
   "execution_count": null,
   "metadata": {},
   "outputs": [],
   "source": []
  }
 ],
 "metadata": {
  "kernelspec": {
   "display_name": "Python 3",
   "language": "python",
   "name": "python3"
  },
  "language_info": {
   "codemirror_mode": {
    "name": "ipython",
    "version": 3
   },
   "file_extension": ".py",
   "mimetype": "text/x-python",
   "name": "python",
   "nbconvert_exporter": "python",
   "pygments_lexer": "ipython3",
   "version": "3.7.3"
  }
 },
 "nbformat": 4,
 "nbformat_minor": 2
}
